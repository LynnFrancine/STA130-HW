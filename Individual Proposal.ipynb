{
 "cells": [
  {
   "cell_type": "code",
   "execution_count": null,
   "id": "a7457921",
   "metadata": {},
   "outputs": [],
   "source": [
    "INDIVIDUAL PROJECT PROPOSAL\n",
    "RESEARCH 1: \n",
    "Research Question: Is there a relationship between an individual’s wellness, life satisfaction, and age?\n",
    "Variables: There are two variables that we are going to work on in this experiment: 1. age and 2. the rating of their wellness(life satisfaction). Going through the available dataset obtained from the survey, we see that the individuals have varying ages and I begin to ask myself whether we can base ourselves on the age of an individual to determine whether he is happy or not. Can we say that the older the individual the higher his life satisfaction or wellness because the individual has had a longer lifespan than another?:\n",
    "-X: In this research, our independent variable is going to be the age. \n",
    "-Y: Wellness level is going to be the dependent variable for this experiment because this is the variable that is subject to change.\n",
    "Data Visualization Method: The Scatter plot in this case will best visualize our two variables because we are interested here in knowing how the data varies or more specifically, using this plot will enable to us visualize at what ages people are more happy and we will also be able to see the spread of data.\n",
    "Analysis: To begin the conducting of our research, I first want to cross-check the data we have available to support our two variables which are age and life satisfaction/wellness, and ensure that both are corresponding types of data that I can use. I determine the types of data, in our case, they both make use of numerical data. After visualizing my data on the scatter plot, I want to determine the correlation coefficient between my two variables by first using the linear regression model to fit the best-fit line between the data points. The equation of this line is equivalent to the equation of the tangent line in Math (y = mx + b). We then want to consider calculating the correlation coefficient. For this, we can use the Pearson’s r formula.\n",
    "Hypothesis: After conducting my experiment, I expect to be able to determine the relationship between the ages and the happiness of every individual from the CSCS survey by evaluating the value produced by the correlation coefficient. If the value is either positive or negative, then we can deduce that there exists a relationship between the two variables. However, if the value is 0 or close to then there is likely to be no relationship between them. This is relevant in answering our research question in the beginning which was interested in knowing whether the age and wellness level of every individual was related.\n",
    "\n",
    "RESEARCH 2: \n",
    "Research Question: Is there a difference in the COVID-19 vaccination rates between genders?\n",
    "Variables: Our two variables are:\n",
    "-X: The independent variable will be the different genders in the survey meanwhile\n",
    "-Y: The dependent variable will be the COVID-19 vaccination rates.\n",
    "Data Visualization method:  I will use the bar plot to visualize the rates of vaccination for each gender, where each bar represents the gender.\n",
    "Analysis: I can first start by calculating the rates of vaccination of each gender involved in the survey. We can do so by dividing the number of vaccinated people from a certain gender by the total number of people from a gender multiplied by 100. Then after visualizing, use a chi-square test for independence or a t-test to compare the vaccination rates between genders and then use the p-value to determine the level of significance and whether to reject the null hypothesis or not.\n",
    "Hypothesis & Discussion: The null hypothesis will be that there is no significant difference between the vaccination rates of the different genders. Rejecting this null hypothesis or not will be the answer to our initial research question.\n",
    "    \n",
    "RESEARCH 3: \n",
    "Research Question: Which province of Canada, from the collected information, contains the highest level of wellness?\n",
    "Variables: The two variables in this case that we are going to utilize are 1. The different provinces of Canada and 2. The wellness (life satisfaction) level of every individual.\n",
    " -X: The independent variable here is the provinces of Canada meanwhile\n",
    " -Y: The dependent variable here is the wellness (from the life satisfaction) level.\n",
    "Data Visualization method: In this case, the Bar Plot is the best possible plot to be used in order to represent and visualize the data. This is because bar plots are very ideal in the representation of categorical data. Also, it provides specific information about each of the provinces regarding wellness.\n",
    "Analysis: The approach I am going to take is as follows: first, I will group each province separately and collect all the data (wellness level) of each individual from that province. Then, we can bootstrap the data for each province and therefore, calculate the mean of those bootstrapped means for every province. Using the mean of the bootstrapped means of every province, I will plug in those means on my bar on the y-axis and as the dependent variable, then by now, using the bars, I will be able to compare and identify which of the provinces have the highest average/mean and therefore, which province has the highest wellness level.\n",
    "Hypothesis & Discussion: I expect to be able to determine the province with the highest level of wellness by looking at the bars on my plot and determining which one has the highest bar. My hypothesis will probably be that the province with the larger sample n and with the highest average level of wellness will be the happiest. However, the issue of why this might not be relevant is that the sample size n of data points of each province might not be equal to each other or might not be the same for every province. I would therefore have to further my research on that."
   ]
  }
 ],
 "metadata": {
  "kernelspec": {
   "display_name": "Python 3 (ipykernel)",
   "language": "python",
   "name": "python3"
  },
  "language_info": {
   "codemirror_mode": {
    "name": "ipython",
    "version": 3
   },
   "file_extension": ".py",
   "mimetype": "text/x-python",
   "name": "python",
   "nbconvert_exporter": "python",
   "pygments_lexer": "ipython3",
   "version": "3.11.6"
  }
 },
 "nbformat": 4,
 "nbformat_minor": 5
}
